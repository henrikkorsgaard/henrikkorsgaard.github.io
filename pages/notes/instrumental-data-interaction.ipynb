{
  "cells": [
    {
      "cell_type": "raw",
      "metadata": {},
      "source": [
        "---\n",
        "title: \"Instrumental data interaction\"\n",
        "---"
      ],
      "id": "31e73803"
    },
    {
      "cell_type": "markdown",
      "metadata": {},
      "source": [
        "Sections:\n",
        "\n",
        "- Introduction\n",
        "    - motivation\n",
        "    - instrumental interaction\n",
        "    - instrumental data interaction\n",
        "\n",
        "```{html, echo=false}\n",
        "<div id=\"shell\" style=\"height:300px;\">\n",
        "</div>\n",
        "<script type=\"text/javascript\" src='/js/sql/sql-wasm.js'></script>\n",
        "<script type=\"application/wasm\" src='/js/sql/sql-wasm.wasm'></script>\n",
        "<script type=\"text/javascript\" src='/js/sql-shell.js'></script>\n",
        "<script type=\"text/javascript\">\n",
        "var el = document.querySelector(\"#shell\")\n",
        "var shell = new SQLShell(el, \"/data/publications.sqlite.db\")\n",
        "</script>\n",
        "```"
      ],
      "id": "98f57bca"
    }
  ],
  "metadata": {
    "kernelspec": {
      "display_name": "Python 3",
      "language": "python",
      "name": "python3"
    }
  },
  "nbformat": 4,
  "nbformat_minor": 5
}