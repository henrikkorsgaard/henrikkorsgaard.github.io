{
  "cells": [
    {
      "cell_type": "raw",
      "metadata": {},
      "source": [
        "---\n",
        "title: Electricity bill and predictive analytics\n",
        "css: /css/electricity-bill-demos.css\n",
        "execute:\n",
        "  enable: true\n",
        "code-fold: true\n",
        "code-summary: Show the code\n",
        "---"
      ],
      "id": "4b3285ce"
    },
    {
      "cell_type": "markdown",
      "metadata": {},
      "source": [
        "When I pay for electricity I pay one month in advance based on my estimated consumption and the estimated market price on electricity. If I consume more or less, or if the prices are higher or lower than expected, the difference in payment is adjusted for the coming months. Roughly translated, my bill looks something like this:\n",
        "\n",
        "<div id=\"electricity-bill-prediction\">\n",
        "<p>Dear customer</p>\n",
        "\n",
        "<p>It is time to pay for your electricity at Denmarkstreet 10, 8100 Aarhus</p>\n",
        "\n",
        "<div class=\"bill-divider\"></div>\n",
        "<h4>Your prepayment for the next period: 01.07.2022 -- 31.07.2022</h4>\n",
        "<table style=\"width:100%\">\n",
        "<tr><td style=\"width:60%\">We estimate that you will use</td><td>305.649 kWh</td><td>1151.01 DKK</td></tr>\n",
        "</table>\n",
        "<div class=\"bill-note\">The consumption includes subscribtion and fixed fees.</div>\n",
        "<div class=\"bill-divider\"></div>\n",
        "<h4>Your statement from last period: 01.06.2022 -- 30.06.2022</h4>\n",
        "<table style=\"width:100%\">\n",
        "<tr><td style=\"width:60%\">We estimated you to use</td><td>315.096 kWh</td><td>1182.98 DKK</td></tr>\n",
        "<tr><td style=\"width:60%\">You used</td><td>316.802 kWh</td><td>1189.07 DKK</td></tr>\n",
        "<tr><td style=\"width:60%\">Difference to be paid</td><td></td><td>6.09 DKK</td></tr>\n",
        "</table>\n",
        "<div class=\"bill-note\">The consumption includes subscribtion and fixed fees.</div>\n",
        "\n",
        "<h2>Your total payment <span>(including vat)</span> 1157.11 DKK</h2>\n",
        "\n",
        "<div class=\"bill-note\">Notice that you may experience a small difference between the totals and sums of each item, because the calculation is done using more decimal places than reflected on the bill.</div>\n",
        "</div>\n",
        "\n",
        "From a everyday case of interacting with data (and from a data design perspective), there are quite a few things to unpack. Let's invent some design principles^[I'm just pulling these out of thin, yet very experience, air. I will synthesise these and present more examples elsewhere].\n",
        "\n",
        "### First principle: If you present the user with a prediction about consumption you have to explain the basis of that prediction.\n",
        "Why? Because that will ensure transparency and allow the consumer to engage with the data, seek out more information and potentially use the information to act in their best interest. Secondly, one could argue that the right to an explanation is in effect here, given that there are financial implications, but that is just a detail. \n",
        "\n",
        "Now, what do the provider give in terms of information about the estimation? From the bill and the website, we learn that it is based on _\"my expected consumption and the expected price per kWH for the next period.\"_ This is supplemented by a general statement about recent increase in prices and consumption: _\"if you experience your bill to be higher than usual in the coming montsh, it is because the prices on electricity has gone up in the last months. The winter season also impact your consumption leading to a higher electricity bill\"_\n",
        "\n",
        "We _do_ learn that the bill combines two estimates. They estimate my consumption and then the electricity price one month out. The first -- consumption -- I should be able to influence, so lets take a look at that. I went through all my bills back to April 2020 when they introduced the estimate model and collected the data. \n"
      ],
      "id": "dda97daa"
    },
    {
      "cell_type": "code",
      "metadata": {},
      "source": [
        "import numpy as np\n",
        "import matplotlib.pyplot as plt\n",
        "\n",
        "actual2021 = np.array([302.024,308.978,266.689,332.947,317.887,299.468,333.479,360.479,406.004])\n",
        "predicted2021 = np.array([288.835,290.35,257.746,274.158,317.961,314.396,383.261,380.969,422.834])\n",
        "actual2022 = np.array([413.49,347.342,342.519,321.065,335.04,316.802,254.906,308.2,280.031,294.629, 307])\n",
        "predicted2022 = np.array([430.406,364.626,354.423,340.85,330.57,315.096,305.642,309.731,313.22,336.317, 347.14])\n",
        "\n",
        "x2020 = np.arange(9)\n",
        "x2021 = np.arange(11)\n",
        "\n",
        "fig,axes = plt.subplots(nrows=1, ncols=2, figsize=(10,5))\n",
        "fig.suptitle(\"Electricity consumption: Predicted (blue) versus actual (green) consumption\")\n",
        "#fig.ylabel(\"Kwh per month\")\n",
        "\n",
        "axes[0].plot(x2020, actual2021, color=\"green\")\n",
        "axes[0].plot(x2020, predicted2021, color=\"blue\")\n",
        "axes[0].set_ylabel(\"Kwh per month\")\n",
        "axes[0].set_xticks(np.arange(9), [\"Apr\",\"May\", \"Jun\", \"Jul\", \"Aug\", \"Sep\", \"oct\", \"Nov\", \"Dec\"])\n",
        "axes[0].set_title(\"2021\")\n",
        "\n",
        "axes[1].plot(x2021, actual2022, color=\"green\")\n",
        "axes[1].plot(x2021, predicted2022, color=\"blue\")\n",
        "axes[1].set_ylabel(\"Kwh per month\")\n",
        "axes[1].set_xticks(np.arange(11), [\"Jan\",\"Feb\", \"Mar\", \"Apr\", \"May\", \"Jun\", \"Jul\", \"Aug\", \"Sep\", \"Oct\", \"Nov\"])\n",
        "axes[1].set_title(\"2022\")\n",
        "\n",
        "plt.show()"
      ],
      "id": "d2c98a71",
      "execution_count": null,
      "outputs": []
    },
    {
      "cell_type": "markdown",
      "metadata": {},
      "source": [
        "This indicates that the estimation is not particularly accurate. The example bill from June 2022 above is one of three where the estimation have been somewhat spot on (August 2021 and May 2022 are similar). Based on this, I tried to poke around with a bit of basic math to see if there was a pattern to the estimate, e.g. that they used my consumption from the same month last year, did some sort of mean across multiple years or months, or if there was some trend analysis going on. \n",
        "\n",
        "Based on this, I could not explain the estimate directly."
      ],
      "id": "90c9b14a"
    }
  ],
  "metadata": {
    "kernelspec": {
      "display_name": "Python 3",
      "language": "python",
      "name": "python3"
    }
  },
  "nbformat": 4,
  "nbformat_minor": 5
}